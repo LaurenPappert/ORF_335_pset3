{
  "nbformat": 4,
  "nbformat_minor": 0,
  "metadata": {
    "colab": {
      "provenance": []
    },
    "kernelspec": {
      "name": "python3",
      "display_name": "Python 3"
    },
    "language_info": {
      "name": "python"
    }
  },
  "cells": [
    {
      "cell_type": "code",
      "execution_count": null,
      "metadata": {
        "id": "bwGyvu_vkJPa"
      },
      "outputs": [],
      "source": [
        "def knapsack(C, W):\n",
        "    n = len(C)\n",
        "    # Sort the items in descending order of their value-to-weight ratio\n",
        "    C.sort(key=lambda x: x[0]/x[1], reverse=True)\n",
        "    # Initialize the dp array\n",
        "    dp = [0] * (W + 1)\n",
        "    for i, (value, weight) in enumerate(C):\n",
        "        for j in range(W, weight - 1, -1):\n",
        "            # If the weight of the current item is less than or equal to j,\n",
        "            # we can choose to include it in the optimal solution\n",
        "            dp[j] = max(dp[j], dp[j - weight] + value)\n",
        "    # Return the maximum value that can be obtained with a weight limit of W\n",
        "    return dp[W]"
      ]
    },
    {
      "cell_type": "code",
      "source": [
        "# Question 1a\n",
        "\n",
        "C = [(2, 3), (3, 4), (4, 5), (5, 2), (10, 3), (40, 8), (15, 7), (25, 4)]\n",
        "W = 12\n",
        "print(\"x(C,W)=\", knapsack(C, W))  # Output: 65"
      ],
      "metadata": {
        "colab": {
          "base_uri": "https://localhost:8080/"
        },
        "id": "yszVMBPvWwMa",
        "outputId": "d9af71d6-b400-4046-8d37-737fac3d392a"
      },
      "execution_count": null,
      "outputs": [
        {
          "output_type": "stream",
          "name": "stdout",
          "text": [
            "x(C,W)= 65\n"
          ]
        }
      ]
    },
    {
      "cell_type": "code",
      "source": [
        "#Question 1d\n",
        "# Get input from user\n",
        "C_input = input(\"Enter pairs of (value, weight) separated by a space, and press Enter to finish: \").strip()\n",
        "C_str_list = [x.strip() for x in C_input.split(\"),\")]\n",
        "C = [tuple(map(int, x.replace(\"(\", \"\").replace(\")\", \"\").split(\",\"))) for x in C_str_list if x]\n",
        "\n",
        "W = int(input(\"Enter the weight limit: \"))\n",
        "\n",
        "# Compute x(C,W) using knapsack function from part a\n",
        "print(\"x(C,W)=\", knapsack(C, W))"
      ],
      "metadata": {
        "id": "M0CRMp3XVgBc",
        "colab": {
          "base_uri": "https://localhost:8080/"
        },
        "outputId": "9549a406-e254-40a7-adbb-f0799e992800"
      },
      "execution_count": null,
      "outputs": [
        {
          "output_type": "stream",
          "name": "stdout",
          "text": [
            "Enter pairs of (value, weight) separated by a space, and press Enter to finish: (2, 3), (3, 4), (4, 5), (5, 2), (10, 3), (40, 8), (15, 7), (25, 4)\n",
            "Enter the weight limit: 12\n",
            "x(C,W)= 65\n"
          ]
        }
      ]
    },
    {
      "cell_type": "code",
      "source": [
        "#Question 2a\n",
        "import math\n",
        "import numpy as np\n",
        "def american_put_option(S0, T, sigma, r, K, n):\n",
        "  h = T / n\n",
        "  r_n = math. exp(r * h) - 1\n",
        "  u_n = math. exp(sigma * math. sqrt (h) )# Up factor\n",
        "  d_n = 1 / u_n # Down factor\n",
        "  p = (1 + r_n - d_n) / (u_n - d_n) # Risk-neutral probability P\n",
        "  V = np.zeros ((n + 1, n + 1)) # initialize 2D array full of zeores\n",
        "  for i in range(n + 1):\n",
        "    ST = S0 * (u_n ** i) * (d_n ** (n - i)) # Stock price at node\n",
        "    V[n, i] = max(K - ST, 0) # Payoff for put option\n",
        "\n",
        "  for j in reversed (range(n)):\n",
        "    for i in range(j + 1):\n",
        "      S = S0 * (u_n ** i) * (d_n ** (j - i)) # Calculate stock price at node\n",
        "      exercise = max(K - S, 0) # value if we exercise the option\n",
        "      hold = (1/(1+r_n)) * (p*V[j+1, i+1]+(1-p)*V[j+1, i]) # value if we do not exercise the option\n",
        "      V[j, i] = max (exercise, hold)\n",
        "  # fill with maximum of exercising and holding\n",
        "  return V[0, 0]\n"
      ],
      "metadata": {
        "id": "Dfk2sJ7xZj-J"
      },
      "execution_count": null,
      "outputs": []
    },
    {
      "cell_type": "code",
      "source": [
        "# Question 2b\n",
        "S0 = 5150\n",
        "T = 1/4\n",
        "sigma = 0.1524\n",
        "r = 0.0475\n",
        "K = 5200\n",
        "n = 500\n",
        "\n",
        "\n",
        "american_put_price = american_put_option(S0, T, sigma, r, K, n)\n",
        "print(\"The initial American put option price is: $\", round(american_put_price, 2))"
      ],
      "metadata": {
        "colab": {
          "base_uri": "https://localhost:8080/"
        },
        "id": "KIn85koOa8Nt",
        "outputId": "c6f3c9a0-af88-4852-b03a-c2656fc1dbde"
      },
      "execution_count": null,
      "outputs": [
        {
          "output_type": "stream",
          "name": "stdout",
          "text": [
            "The initial American put option price is: $ 157.61\n"
          ]
        }
      ]
    },
    {
      "cell_type": "code",
      "source": [
        "import math\n",
        "import numpy as np\n",
        "\n",
        "def binomial_tree_price(S0, sigma, r, T, n, K, B):\n",
        "    h = T / n\n",
        "    r_n = math.exp(r * h) - 1\n",
        "    u_n = math.exp(sigma * math.sqrt(h))\n",
        "    d_n = 1 / u_n\n",
        "    p = (1 + r_n - d_n) / (u_n - d_n)\n",
        "\n",
        "    S = np.zeros((n + 1, n + 1))\n",
        "    V = np.zeros((n + 1, n + 1))\n",
        "\n",
        "    for i in range(n + 1):\n",
        "        for j in range(i + 1):\n",
        "            S[i, j] = S0 * (u_n ** j) * (d_n ** (i - j))\n",
        "\n",
        "    for j in range(n + 1):\n",
        "        if S[n, j] >= K and S[n, j] > B:\n",
        "            V[n, j] = 1\n",
        "\n",
        "    for i in reversed(range(1, n + 1)):\n",
        "        for j in range(i):\n",
        "            if S[i - 1, j] > B:\n",
        "                V[i - 1, j] = (p * V[i, j] + (1 - p) * V[i, j + 1]) / (1 + r_n)\n",
        "\n",
        "    return V[0, 0]\n",
        "\n",
        "# Parameters\n",
        "params = [(200, 5200, 4900), (500, 5200, 4900), (1000, 5200, 4900)]\n",
        "\n",
        "# Print option prices\n",
        "for i, (n, K, B) in enumerate(params, ord('a')):\n",
        "    option_price = binomial_tree_price(5150, 0.1524, 0.0475, 0.25, n, K, B)\n",
        "    print(f\"{chr(i)} . Number of time steps: {n}, Option price: ${option_price:.2f}\\n\")"
      ],
      "metadata": {
        "colab": {
          "base_uri": "https://localhost:8080/"
        },
        "id": "Wlvj2S2N3rZD",
        "outputId": "d63da8b6-848e-46a0-f38a-9189acc658fb"
      },
      "execution_count": null,
      "outputs": [
        {
          "output_type": "stream",
          "name": "stdout",
          "text": [
            "a . Number of time steps: 200, Option price: $0.36\n",
            "\n",
            "b . Number of time steps: 500, Option price: $0.33\n",
            "\n",
            "c . Number of time steps: 1000, Option price: $0.32\n",
            "\n"
          ]
        }
      ]
    }
  ]
}